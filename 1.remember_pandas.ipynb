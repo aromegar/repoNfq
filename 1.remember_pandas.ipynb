{
 "cells": [
  {
   "cell_type": "markdown",
   "id": "5fc7bd15",
   "metadata": {},
   "source": [
    "## vamos a recordar Pandas"
   ]
  },
  {
   "cell_type": "markdown",
   "id": "9d12cab4",
   "metadata": {},
   "source": [
    "### haciendo cosas:"
   ]
  },
  {
   "cell_type": "code",
   "execution_count": 3,
   "id": "4682cca6",
   "metadata": {},
   "outputs": [],
   "source": [
    "import pandas as pd"
   ]
  },
  {
   "cell_type": "code",
   "execution_count": 4,
   "id": "8f74c5c2",
   "metadata": {},
   "outputs": [],
   "source": [
    "import numpy as np"
   ]
  },
  {
   "cell_type": "markdown",
   "id": "f11a5f10",
   "metadata": {},
   "source": [
    "#### vamos a llamar a funciones de Visual:"
   ]
  },
  {
   "cell_type": "code",
   "execution_count": 6,
   "id": "5503a42a",
   "metadata": {},
   "outputs": [],
   "source": [
    "from src import mis_funciones as mf"
   ]
  },
  {
   "cell_type": "code",
   "execution_count": 7,
   "id": "214bb1bf",
   "metadata": {},
   "outputs": [
    {
     "data": {
      "text/plain": [
       "11"
      ]
     },
     "execution_count": 7,
     "metadata": {},
     "output_type": "execute_result"
    }
   ],
   "source": [
    "mf.suma(4,7)"
   ]
  },
  {
   "cell_type": "code",
   "execution_count": 8,
   "id": "f70215a0",
   "metadata": {},
   "outputs": [
    {
     "data": {
      "text/plain": [
       "-44.352000000000004"
      ]
     },
     "execution_count": 8,
     "metadata": {},
     "output_type": "execute_result"
    }
   ],
   "source": [
    "mf.resta(11.543,55.895)"
   ]
  },
  {
   "cell_type": "code",
   "execution_count": null,
   "id": "db6e0a92",
   "metadata": {},
   "outputs": [],
   "source": []
  }
 ],
 "metadata": {
  "kernelspec": {
   "display_name": "ironhack",
   "language": "python",
   "name": "ironhack"
  },
  "language_info": {
   "codemirror_mode": {
    "name": "ipython",
    "version": 3
   },
   "file_extension": ".py",
   "mimetype": "text/x-python",
   "name": "python",
   "nbconvert_exporter": "python",
   "pygments_lexer": "ipython3",
   "version": "3.8.12"
  }
 },
 "nbformat": 4,
 "nbformat_minor": 5
}
